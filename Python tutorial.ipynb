{
 "cells": [
  {
   "cell_type": "markdown",
   "metadata": {},
   "source": [
    "# Цель\n",
    "\n",
    "В данном блокноте приводятся основные понятия языка программирования Python, которые мы будем использовать.\n",
    "\n",
    "В данной среде есть два вида ячеек: ячейки с кодом и ячейки с разметкой. У ячеек с кодом слева расположена надпись **In [ ]**.\n",
    "\n",
    "Ячейки с кодом можно запускать, выделив ее и нажав комбинации *Shift + Enter* или *Сtrl + Enter*. Для примера выполните код, который находится в следующей ячейке."
   ]
  },
  {
   "cell_type": "markdown",
   "metadata": {},
   "source": [
    "## Hello world\n",
    "Напишите в следующей ячейке\n",
    "\n",
    "print(\"Hello world!\")\n"
   ]
  },
  {
   "cell_type": "code",
   "execution_count": null,
   "metadata": {
    "collapsed": true
   },
   "outputs": [],
   "source": []
  },
  {
   "cell_type": "markdown",
   "metadata": {},
   "source": [
    "Функция print() выводит переданное ей значение. То, что находится в кавычках называется строка."
   ]
  },
  {
   "cell_type": "markdown",
   "metadata": {},
   "source": [
    "## Переменные\n",
    "\n",
    "Переменной называется некое хранилище данных. Мы будем использовать переменные для хранения чисел и матриц. \n",
    "Имя переменой должно начинаться с буквы и может содержать символы нижнего подчеркивания и цифры.\n",
    "Например, переменные могут быть следующими."
   ]
  },
  {
   "cell_type": "code",
   "execution_count": 2,
   "metadata": {
    "collapsed": true
   },
   "outputs": [],
   "source": [
    "a = 5\n",
    "b = 10.3\n",
    "Two_words = a"
   ]
  },
  {
   "cell_type": "markdown",
   "metadata": {},
   "source": [
    "Теперь переменная $a$ содержит число 5, в $b$ содержится переменная 10.3. \n",
    "А в переменной $Two\\_words$ содержится то, что содержится в переменной $a$.\n",
    "\n",
    "Что бы узнать что храниться в переменной можно использовать функцию print(). Помните, что операции выполняются последовательно сверху вниз. Поэтому в выводе сначала идет переменная $a$, затем $b$, ну а после $Two\\_words$."
   ]
  },
  {
   "cell_type": "code",
   "execution_count": 3,
   "metadata": {
    "collapsed": false
   },
   "outputs": [
    {
     "name": "stdout",
     "output_type": "stream",
     "text": [
      "5\n",
      "10.3\n",
      "5\n"
     ]
    }
   ],
   "source": [
    "print(a)\n",
    "print(b)\n",
    "print(Two_words)"
   ]
  },
  {
   "cell_type": "markdown",
   "metadata": {},
   "source": [
    "## Арифметические операции\n",
    "\n",
    "Нам потребуются всего 5 арифметических операций: сложение, вычитание, умножение, деление и возведение в степень.\n",
    "В следующей ячейке приводятся примеры использования всех операций. Следует заметить, что сначала совершается арифметическая операция, а потом результат передается в print()"
   ]
  },
  {
   "cell_type": "code",
   "execution_count": 4,
   "metadata": {
    "collapsed": false
   },
   "outputs": [
    {
     "name": "stdout",
     "output_type": "stream",
     "text": [
      "15\n",
      "5\n",
      "50\n",
      "2.0\n",
      "100000\n"
     ]
    }
   ],
   "source": [
    "print(10 + 5)  # Сложение\n",
    "print(10 - 5)  # Вычитание\n",
    "print(10 * 5)  # Умножение\n",
    "print(10 / 5)  # Деление\n",
    "print(10 ** 5) # Возведение в степень"
   ]
  },
  {
   "cell_type": "markdown",
   "metadata": {},
   "source": [
    "Те же операции будут работать и с переменными, если в них находятся числа."
   ]
  },
  {
   "cell_type": "code",
   "execution_count": 5,
   "metadata": {
    "collapsed": false
   },
   "outputs": [
    {
     "name": "stdout",
     "output_type": "stream",
     "text": [
      "15\n",
      "5\n",
      "50\n",
      "2.0\n",
      "100000\n"
     ]
    }
   ],
   "source": [
    "first = 10\n",
    "second = 5\n",
    "\n",
    "print(first + second)  # Сложение\n",
    "print(first - second)  # Вычитание\n",
    "print(first * second)  # Умножение\n",
    "print(first / second)  # Деление\n",
    "print(first ** second) # Возведение в степень "
   ]
  },
  {
   "cell_type": "markdown",
   "metadata": {},
   "source": [
    "Все результаты арифметических операций моно совмещать и сохранять в переменные."
   ]
  },
  {
   "cell_type": "code",
   "execution_count": 6,
   "metadata": {
    "collapsed": false
   },
   "outputs": [
    {
     "name": "stdout",
     "output_type": "stream",
     "text": [
      "9.0\n"
     ]
    }
   ],
   "source": [
    "a = 10\n",
    "b = 2\n",
    "c = a-4 / b+1\n",
    "print(c)"
   ]
  },
  {
   "cell_type": "markdown",
   "metadata": {},
   "source": [
    "Обратите внимание на порядок выполнения операций. \n",
    "\n",
    "Операции выполняются слева на право в приоритете: умножение/деление, сложение/вычитание. То есть, сначала происходит деление 4 на b, так как у деления приоритет выше чем у сложения. Затем проученный результат вычитается из $a$ и к нему прибавляется 1.\n",
    "\n",
    "Порядок следования можно поменять с помощью скобок. То, что находится в скобках выполняется в первую очередь."
   ]
  },
  {
   "cell_type": "code",
   "execution_count": 7,
   "metadata": {
    "collapsed": false
   },
   "outputs": [
    {
     "name": "stdout",
     "output_type": "stream",
     "text": [
      "2.0\n"
     ]
    }
   ],
   "source": [
    "a = 10\n",
    "b = 2\n",
    "c = (a-4) / (b+1)\n",
    "print(c)"
   ]
  },
  {
   "cell_type": "markdown",
   "metadata": {},
   "source": [
    "Обратите внимание на следующий пример."
   ]
  },
  {
   "cell_type": "code",
   "execution_count": 8,
   "metadata": {
    "collapsed": false
   },
   "outputs": [
    {
     "name": "stdout",
     "output_type": "stream",
     "text": [
      "10\n",
      "12\n",
      "22\n"
     ]
    }
   ],
   "source": [
    "a = 10\n",
    "print(a)\n",
    "\n",
    "b = 2\n",
    "a = a + b\n",
    "print(a)\n",
    "\n",
    "a = a + 10\n",
    "print(a)"
   ]
  },
  {
   "cell_type": "markdown",
   "metadata": {},
   "source": [
    "$a = a + b$ означает сначала получить значение $a$ приравнять его к $b$. То есть, сначала совершается операция справа от знака равно. А затем происходит приравнивание."
   ]
  },
  {
   "cell_type": "markdown",
   "metadata": {},
   "source": [
    "## Задания\n",
    "\n",
    "* Создать переменные с именами $val1$ и $val2$ и приравнять их к 1 и 20 соответственно."
   ]
  },
  {
   "cell_type": "code",
   "execution_count": 9,
   "metadata": {
    "collapsed": true
   },
   "outputs": [],
   "source": [
    "from tutorial import *"
   ]
  },
  {
   "cell_type": "code",
   "execution_count": 11,
   "metadata": {
    "collapsed": false
   },
   "outputs": [
    {
     "name": "stdout",
     "output_type": "stream",
     "text": [
      "Молодец!\n"
     ]
    }
   ],
   "source": [
    "#********************************\n",
    "\n",
    "\n",
    "#********************************     \n",
    "\n",
    "check_var(globals())"
   ]
  },
  {
   "cell_type": "markdown",
   "metadata": {},
   "source": [
    "* А теперь переменные $a$ и $b$ уже созданы. Реализуй формулу $c = \\frac{10a - 3b}{2}$."
   ]
  },
  {
   "cell_type": "code",
   "execution_count": 12,
   "metadata": {
    "collapsed": false
   },
   "outputs": [
    {
     "name": "stdout",
     "output_type": "stream",
     "text": [
      "c не равно 45.5\n"
     ]
    }
   ],
   "source": [
    "a = 10\n",
    "b = 3\n",
    "\n",
    "#********************************     \n",
    "\n",
    "\n",
    "#********************************     \n",
    "   \n",
    "\n",
    "check_formula(globals())"
   ]
  },
  {
   "cell_type": "markdown",
   "metadata": {},
   "source": [
    "## Массивы и списки\n",
    "\n",
    "В этой части мы изучим такой мощный инструмент как списки и массивы.\n",
    "\n",
    "Массивом называется переменная, которая содержит несколько значений, к которым можно обращаться по индексу. \n",
    "\n",
    "![alt](img/arrays.JPG)\n",
    "\n",
    "Массив создается очень просто.\n",
    "Мы просто записываем числа в квадратных скобках через запятую."
   ]
  },
  {
   "cell_type": "code",
   "execution_count": 21,
   "metadata": {
    "collapsed": true
   },
   "outputs": [],
   "source": [
    "X = [4, 5, 3, 4, 5, 2, 5, 5]"
   ]
  },
  {
   "cell_type": "markdown",
   "metadata": {},
   "source": [
    "Мы можем обращаться к элементам массива с помощью квадратных скобок. Элементы в массиве нумеруются начиная с нуля. То есть,\n",
    "X[0] равно 4. А X[1] равно 5."
   ]
  },
  {
   "cell_type": "code",
   "execution_count": 16,
   "metadata": {
    "collapsed": false
   },
   "outputs": [
    {
     "name": "stdout",
     "output_type": "stream",
     "text": [
      "4\n",
      "5\n"
     ]
    }
   ],
   "source": [
    "print(X[0])\n",
    "print(X[1])"
   ]
  },
  {
   "cell_type": "markdown",
   "metadata": {},
   "source": [
    "Элементы массива можно не только можно читать, но и записывать информацию в них."
   ]
  },
  {
   "cell_type": "code",
   "execution_count": 17,
   "metadata": {
    "collapsed": false
   },
   "outputs": [
    {
     "name": "stdout",
     "output_type": "stream",
     "text": [
      "[4, 5, 3, 4, 5, 2, 5, 5]\n",
      "[10, 5, 3, 4, 15, 2, 5, 5]\n"
     ]
    }
   ],
   "source": [
    "print(X)\n",
    "X[0] = 10\n",
    "X[4] = 15\n",
    "print(X)"
   ]
  },
  {
   "cell_type": "markdown",
   "metadata": {},
   "source": [
    "Что бы узнать размер массива нужно воспользоваться функцией $len()$."
   ]
  },
  {
   "cell_type": "code",
   "execution_count": 18,
   "metadata": {
    "collapsed": false
   },
   "outputs": [
    {
     "name": "stdout",
     "output_type": "stream",
     "text": [
      "8\n"
     ]
    }
   ],
   "source": [
    "print(len(X))"
   ]
  },
  {
   "cell_type": "markdown",
   "metadata": {},
   "source": [
    "## Циклы\n",
    "\n",
    "Циклы удобно использовать в работе с массивами.\n",
    "\n",
    "Пример цикла находится внизу.  "
   ]
  },
  {
   "cell_type": "code",
   "execution_count": 19,
   "metadata": {
    "collapsed": false
   },
   "outputs": [
    {
     "name": "stdout",
     "output_type": "stream",
     "text": [
      "0\n",
      "1\n",
      "2\n",
      "3\n",
      "4\n",
      "5\n",
      "6\n",
      "7\n",
      "8\n",
      "9\n"
     ]
    }
   ],
   "source": [
    "for i in range(10): # range(N) создает дипозон чисел от 0 до N, не включая N. То есть, 0, 1, ... , N-2, N-1\n",
    "    print(i)"
   ]
  },
  {
   "cell_type": "markdown",
   "metadata": {},
   "source": [
    "Цикл можно прочитать в следующем виде:\n",
    "\n",
    "**Для $переменной$ в массиве/диапазоне:**\n",
    "    * Тело цикла. (не забудьте про отступ)\n",
    "    \n",
    "Циклы удобно использовать для работы с массивами.  \n"
   ]
  },
  {
   "cell_type": "code",
   "execution_count": 20,
   "metadata": {
    "collapsed": false
   },
   "outputs": [
    {
     "name": "stdout",
     "output_type": "stream",
     "text": [
      "10\n",
      "5\n",
      "3\n",
      "4\n",
      "15\n",
      "2\n",
      "5\n",
      "5\n"
     ]
    }
   ],
   "source": [
    "for i in range(len(X)): \n",
    "    print(X[i])"
   ]
  },
  {
   "cell_type": "markdown",
   "metadata": {},
   "source": [
    "#### Пример, подсчет суммы элементов в массиве"
   ]
  },
  {
   "cell_type": "code",
   "execution_count": 22,
   "metadata": {
    "collapsed": false
   },
   "outputs": [
    {
     "name": "stdout",
     "output_type": "stream",
     "text": [
      "49\n"
     ]
    }
   ],
   "source": [
    "s = 0\n",
    "for i in range(len(X)): \n",
    "    s = s + X[i]\n",
    "print(s)"
   ]
  },
  {
   "cell_type": "markdown",
   "metadata": {},
   "source": [
    "# Задание\n",
    "\n",
    "#### Посчитать результат перемножения всех элементов в массиве\n",
    "\n",
    "На вход подается массив $A$. Его размер можно узнать с помощью $len(A)$. Результат сохраните в  $res$."
   ]
  },
  {
   "cell_type": "code",
   "execution_count": 16,
   "metadata": {
    "collapsed": false
   },
   "outputs": [
    {
     "name": "stdout",
     "output_type": "stream",
     "text": [
      "120\n",
      "Молодец!\n"
     ]
    }
   ],
   "source": [
    "res = 1\n",
    "A = [1, 2, 3, 4, 5]\n",
    "#**************************************\n",
    "res = 1\n",
    "for i in range(len(A)):\n",
    "    res = res * A[i]\n",
    "print (res)\n",
    "#**************************************\n",
    "check_array(A, res)"
   ]
  },
  {
   "cell_type": "markdown",
   "metadata": {},
   "source": [
    "## Функции\n",
    "\n",
    "Функции это участок кода, который выполняет определенную задачу.\n",
    "\n",
    "Функция начинается со слова $def$ (сокращение от define, определим). Все что выполняется в функции должно начинаться с отступа. \n",
    "затем (синим) идет название функции. И наконец в скобках находятся переменные, которые передаются в функцию.\n",
    "\n",
    "Затем что-то происходит в функции и после всего мы возвращаем результат ключевым словом $return$."
   ]
  },
  {
   "cell_type": "code",
   "execution_count": 22,
   "metadata": {
    "collapsed": false
   },
   "outputs": [
    {
     "name": "stdout",
     "output_type": "stream",
     "text": [
      "В переменной а записано 1\n",
      "В переменной b записано 2\n",
      "3\n",
      "\n",
      "В переменной а записано 20\n",
      "В переменной b записано 10\n",
      "30\n"
     ]
    }
   ],
   "source": [
    "def first_function(a, b):\n",
    "    \n",
    "    print(\"В переменной а записано \" + str(a))\n",
    "    print(\"В переменной b записано \" + str(b))\n",
    "    c = a + b\n",
    "    return c\n",
    "\n",
    "result = first_function(a=1, b=2)\n",
    "print(result)\n",
    "print()\n",
    "\n",
    "var1 = 20\n",
    "var2 = 10\n",
    "\n",
    "result = first_function(a=var1, b=var2)\n",
    "print(result)"
   ]
  },
  {
   "cell_type": "markdown",
   "metadata": {},
   "source": [
    "Обратите внимание, что когда мы передаем значения в функцию, то значение переменных приравнивается к передающимся значениям. \n",
    "\n",
    "Все переменные созданные в функции невидимы снаружи."
   ]
  },
  {
   "cell_type": "code",
   "execution_count": 23,
   "metadata": {
    "collapsed": false
   },
   "outputs": [
    {
     "name": "stdout",
     "output_type": "stream",
     "text": [
      "1\n",
      "1\n"
     ]
    }
   ],
   "source": [
    "var = 1\n",
    "\n",
    "print(var)\n",
    "\n",
    "def second_function():\n",
    "    var = 100\n",
    "    return 0\n",
    "\n",
    "print(var)"
   ]
  },
  {
   "cell_type": "markdown",
   "metadata": {},
   "source": [
    "В Python встроено несколько специальных функций. \n",
    "\n",
    "Например, $len()$ возвращает размер массива.\n",
    "\n",
    "Еще нам понадобится функция $sum()$, которая возвращает сумму массива."
   ]
  },
  {
   "cell_type": "code",
   "execution_count": 24,
   "metadata": {
    "collapsed": false
   },
   "outputs": [
    {
     "name": "stdout",
     "output_type": "stream",
     "text": [
      "33\n"
     ]
    }
   ],
   "source": [
    "s = sum(X)\n",
    "print(s)"
   ]
  },
  {
   "cell_type": "code",
   "execution_count": 25,
   "metadata": {
    "collapsed": false
   },
   "outputs": [
    {
     "name": "stdout",
     "output_type": "stream",
     "text": [
      "4.125\n"
     ]
    }
   ],
   "source": [
    "# код ниже позволяет найти среднее значение массива\n",
    "\n",
    "mean = sum(X) / len(X)\n",
    "print(mean)"
   ]
  },
  {
   "cell_type": "markdown",
   "metadata": {},
   "source": [
    "# Матрицы\n",
    "\n",
    "Работа с матрицами не встроена на прямую в Python. Но для этого существует библиотека NumPy (Numeric Python). \n",
    "\n",
    "Для того, что бы работать с этим модулем необходимо его подключить. В следующей ячейке находится пример того, как подключить эту библиотеку."
   ]
  },
  {
   "cell_type": "code",
   "execution_count": 26,
   "metadata": {
    "collapsed": true
   },
   "outputs": [],
   "source": [
    "import numpy as np"
   ]
  },
  {
   "cell_type": "markdown",
   "metadata": {},
   "source": [
    "Пример создания матрице находится в следующей ячейке."
   ]
  },
  {
   "cell_type": "code",
   "execution_count": 27,
   "metadata": {
    "collapsed": false
   },
   "outputs": [
    {
     "name": "stdout",
     "output_type": "stream",
     "text": [
      "[[1 2 3]\n",
      " [4 5 6]]\n"
     ]
    }
   ],
   "source": [
    "A = np.array([ [1, 2, 3], [4, 5, 6] ])\n",
    "print(A)"
   ]
  },
  {
   "cell_type": "code",
   "execution_count": 28,
   "metadata": {
    "collapsed": false
   },
   "outputs": [
    {
     "name": "stdout",
     "output_type": "stream",
     "text": [
      "[[ 1  2  3  4]\n",
      " [ 5  6  7  8]\n",
      " [ 9 10 10 12]]\n"
     ]
    }
   ],
   "source": [
    "B = np.array([ [1, 2, 3, 4], [5, 6, 7, 8], [9, 10, 10, 12]])\n",
    "print(B)"
   ]
  },
  {
   "cell_type": "markdown",
   "metadata": {},
   "source": [
    "Таким образом создается матрицы.\n",
    "\n",
    "\\begin{equation*}\n",
    "\\mathbf{A} = \\begin{pmatrix}\n",
    "1 & 2 & 3 \\\\\n",
    "4 & 5 & 6 \\\\\n",
    "\\end{pmatrix} \n",
    "\\end{equation*}\n",
    "\n",
    "\\begin{equation*}\t\n",
    "\\mathbf{B} = \\begin{pmatrix}\n",
    "1 & 2 & 3 & 4 \\\\\n",
    "5 & 6 & 7 & 8 \\\\\n",
    "9 & 10 & 11 & 12 \\\\\n",
    "\\end{pmatrix}\n",
    "\\end{equation*}\n",
    "\n",
    "Для создания матрицы в функцию np.array() передается массив строк матриц (который также является массивом).\n",
    "\n",
    "В данной работе вам не нужно будет создавать матрицы самим.\n",
    "\n",
    "Для обращения к элементу $A_{i, j}$ нужно написать $A[i, j]$."
   ]
  },
  {
   "cell_type": "code",
   "execution_count": 29,
   "metadata": {
    "collapsed": false
   },
   "outputs": [
    {
     "name": "stdout",
     "output_type": "stream",
     "text": [
      "1\n",
      "6\n"
     ]
    }
   ],
   "source": [
    "print(A[0, 0])\n",
    "print(A[1, 2])"
   ]
  },
  {
   "cell_type": "code",
   "execution_count": 30,
   "metadata": {
    "collapsed": false
   },
   "outputs": [
    {
     "name": "stdout",
     "output_type": "stream",
     "text": [
      "9\n",
      "8\n"
     ]
    }
   ],
   "source": [
    "print(B[2,0])\n",
    "print(B[1,3])"
   ]
  },
  {
   "cell_type": "markdown",
   "metadata": {},
   "source": [
    "Также имеется возможность обратиться к строке и колонке по отдельности. \n",
    "\n",
    "Что бы обратиться к строке нужно написать номер строки (только его). Что бы обратиться к колонке нужно вместо номера строки написать \":\". В следующей ячейки примеры обращения к 0-ой строке матрицы $A$ и к третей колонке матрицы $B$."
   ]
  },
  {
   "cell_type": "code",
   "execution_count": 31,
   "metadata": {
    "collapsed": false
   },
   "outputs": [
    {
     "name": "stdout",
     "output_type": "stream",
     "text": [
      "[1 2 3]\n",
      "[ 4  8 12]\n"
     ]
    }
   ],
   "source": [
    "print(A[0])\n",
    "print(B[:, 3])"
   ]
  },
  {
   "cell_type": "markdown",
   "metadata": {},
   "source": [
    "# Работа с матрицами\n",
    "\n",
    "Мы можем использовать все операции с матрицами что были раньше и даже больше."
   ]
  },
  {
   "cell_type": "code",
   "execution_count": 31,
   "metadata": {
    "collapsed": false
   },
   "outputs": [
    {
     "name": "stdout",
     "output_type": "stream",
     "text": [
      "[ 10.  10.  10.  10.]\n",
      "\n",
      "[ 0.  1.  2.  3.]\n",
      "\n",
      "[[0 1 2 3]\n",
      " [4 5 6 7]]\n",
      "\n",
      "[[1 2 3]\n",
      " [1 2 3]\n",
      " [1 2 3]\n",
      " [1 2 3]]\n"
     ]
    }
   ],
   "source": [
    "A = np.array([10., 10., 10, 10])\n",
    "B = np.array([0, 1, 2, 3.])\n",
    "C = np.array([[0, 1, 2, 3], [4, 5, 6, 7]])\n",
    "D = np.array([[1, 2, 3], [1, 2, 3], [1, 2, 3], [1, 2, 3]])\n",
    "\n",
    "print(A)\n",
    "print()\n",
    "\n",
    "print(B)\n",
    "print()\n",
    "\n",
    "print(C)\n",
    "print()\n",
    "\n",
    "print(D)"
   ]
  },
  {
   "cell_type": "markdown",
   "metadata": {},
   "source": [
    "Таким образом у нас есть матрицы:\n",
    "\n",
    "\\begin{equation*}\n",
    "\\mathbf{A} = \\begin{pmatrix}\n",
    "10  \\\\\n",
    "10  \\\\\n",
    "10  \\\\\n",
    "10  \\\\\n",
    "\\end{pmatrix} \n",
    "\\end{equation*}\n",
    "\n",
    "\\begin{equation*}\n",
    "\\mathbf{B} = \\begin{pmatrix}\n",
    "0  \\\\\n",
    "1  \\\\\n",
    "2  \\\\\n",
    "3  \\\\\n",
    "\\end{pmatrix} \n",
    "\\end{equation*}\n",
    "\n",
    "\\begin{equation*}\n",
    "\\mathbf{C} = \\begin{pmatrix}\n",
    "0 & 1 & 2 & 3 \\\\\n",
    "4 & 5 & 6 & 7 \\\\\n",
    "\\end{pmatrix} \n",
    "\\end{equation*}\n",
    "\n",
    "\\begin{equation*}\n",
    "\\mathbf{D} = \\begin{pmatrix}\n",
    "1 & 2 & 3 \\\\\n",
    "1 & 2 & 3 \\\\\n",
    "1 & 2 & 3 \\\\\n",
    "1 & 2 & 3 \\\\\n",
    "\\end{pmatrix} \n",
    "\\end{equation*}"
   ]
  },
  {
   "cell_type": "markdown",
   "metadata": {},
   "source": [
    "Не обращайте внимание на то, что вектор строка визуализируется как строка - это сделано для удобства.\n",
    "\n",
    "Если у нас есть вектор колонка (например, A или B), то для обращения к элементу \n",
    "\n",
    "$B_{1, 0}$ достаточно написать $B[1]$. Да и вообще, $B_{1, 0}$ тоже самое, что и $B_{1}$.\n"
   ]
  },
  {
   "cell_type": "code",
   "execution_count": 32,
   "metadata": {
    "collapsed": false
   },
   "outputs": [
    {
     "name": "stdout",
     "output_type": "stream",
     "text": [
      "1.0\n"
     ]
    }
   ],
   "source": [
    "print(B[1])"
   ]
  },
  {
   "cell_type": "markdown",
   "metadata": {},
   "source": [
    "## Примеры работы с матрицами\n",
    "\n",
    "### Сложение матриц\n",
    "\n",
    "\\begin{equation*}\n",
    "result = \\mathbf{A} + \\mathbf{B} = \\begin{pmatrix}\n",
    "A_0  \\\\\n",
    "A_1 \\\\\n",
    "A_2  \\\\\n",
    "A_3  \\\\\n",
    "\\end{pmatrix} \n",
    "+\n",
    "\\begin{pmatrix}\n",
    "B_0  \\\\\n",
    "B_1  \\\\\n",
    "B_2  \\\\\n",
    "B_3  \\\\\n",
    "\\end{pmatrix} = \n",
    "\\begin{pmatrix}\n",
    "A_0 + B_0  \\\\\n",
    "A_1 + B_1  \\\\\n",
    "A_2 + B_2  \\\\\n",
    "A_3 + B_3  \\\\\n",
    "\\end{pmatrix} \n",
    "\\end{equation*}"
   ]
  },
  {
   "cell_type": "code",
   "execution_count": 33,
   "metadata": {
    "collapsed": false
   },
   "outputs": [
    {
     "name": "stdout",
     "output_type": "stream",
     "text": [
      "[ 10.  11.  12.  13.]\n"
     ]
    }
   ],
   "source": [
    "# с помощью цикла\n",
    "result = np.zeros_like(A)\n",
    "\n",
    "for i in range(len(A)):\n",
    "    result[i] = A[i] + B[i]\n",
    "\n",
    "print(result)"
   ]
  },
  {
   "cell_type": "code",
   "execution_count": 34,
   "metadata": {
    "collapsed": false
   },
   "outputs": [
    {
     "name": "stdout",
     "output_type": "stream",
     "text": [
      "[ 10.  11.  12.  13.]\n"
     ]
    }
   ],
   "source": [
    "# с помощью матричных операций\n",
    "result = A + B\n",
    "print(result)"
   ]
  },
  {
   "cell_type": "markdown",
   "metadata": {},
   "source": [
    "### Сумма элементов в матрице\n",
    "\n",
    "\n",
    "\\begin{equation*}\n",
    "result = B_0 + B_1 + B_2 + B_3  \n",
    "\\end{equation*}"
   ]
  },
  {
   "cell_type": "code",
   "execution_count": 35,
   "metadata": {
    "collapsed": false
   },
   "outputs": [
    {
     "name": "stdout",
     "output_type": "stream",
     "text": [
      "6.0\n"
     ]
    }
   ],
   "source": [
    "# с помощью цикла\n",
    "result = 0\n",
    "for i in range(len(B)):\n",
    "    result = result + B[i] \n",
    "\n",
    "print(result)"
   ]
  },
  {
   "cell_type": "code",
   "execution_count": 36,
   "metadata": {
    "collapsed": false
   },
   "outputs": [
    {
     "name": "stdout",
     "output_type": "stream",
     "text": [
      "6.0\n"
     ]
    }
   ],
   "source": [
    "# с помощью матричных операций\n",
    "result = sum(B)\n",
    "print(result)"
   ]
  },
  {
   "cell_type": "markdown",
   "metadata": {},
   "source": [
    "## Реализация формулы\n",
    "\n",
    "$$result\n",
    "= 5 + 10B =\n",
    "\\begin{pmatrix}\n",
    "5 + 10B_0  \\\\\n",
    "5 + 10B_1  \\\\\n",
    "5 + 10B_2  \\\\\n",
    "5 + 10B_3  \\\\\n",
    "\\end{pmatrix}$$"
   ]
  },
  {
   "cell_type": "code",
   "execution_count": 37,
   "metadata": {
    "collapsed": false
   },
   "outputs": [
    {
     "name": "stdout",
     "output_type": "stream",
     "text": [
      "[  5.  15.  25.  35.]\n"
     ]
    }
   ],
   "source": [
    "# с помощью цикла\n",
    "result = np.zeros_like(B)\n",
    "\n",
    "for i in range(len(B)):\n",
    "    result[i] = 5 + 10*B[i]\n",
    "\n",
    "print(result)"
   ]
  },
  {
   "cell_type": "code",
   "execution_count": 38,
   "metadata": {
    "collapsed": false
   },
   "outputs": [
    {
     "name": "stdout",
     "output_type": "stream",
     "text": [
      "[  5.  15.  25.  35.]\n"
     ]
    }
   ],
   "source": [
    "# с помощью матричных операций\n",
    "result = 5 + 10*B\n",
    "print(result)"
   ]
  },
  {
   "cell_type": "markdown",
   "metadata": {},
   "source": [
    "## Реализация формулы\n",
    "\n",
    "$$result\n",
    "= e^{\\frac{B}{100}} =\n",
    "\\begin{pmatrix}\n",
    "e^{\\frac{B_0}{100}} \\\\\n",
    "e^{\\frac{B_1}{100}} \\\\\n",
    "e^{\\frac{B_2}{100}} \\\\\n",
    "e^{\\frac{B_3}{100}} \\\\\n",
    "\\end{pmatrix}$$"
   ]
  },
  {
   "cell_type": "code",
   "execution_count": 39,
   "metadata": {
    "collapsed": false
   },
   "outputs": [
    {
     "name": "stdout",
     "output_type": "stream",
     "text": [
      "[ 1.          1.01005017  1.02020134  1.03045453]\n"
     ]
    }
   ],
   "source": [
    "# с помощью цикла\n",
    "result = np.zeros_like(B)\n",
    "for i in range(len(B)):\n",
    "    result[i] = np.exp(B[i] / 100)\n",
    "print(result)"
   ]
  },
  {
   "cell_type": "code",
   "execution_count": 40,
   "metadata": {
    "collapsed": false
   },
   "outputs": [
    {
     "name": "stdout",
     "output_type": "stream",
     "text": [
      "[ 1.          1.01005017  1.02020134  1.03045453]\n"
     ]
    }
   ],
   "source": [
    "# с помощью матричных операций\n",
    "result = np.exp(B / 100)\n",
    "print(result)"
   ]
  },
  {
   "cell_type": "markdown",
   "metadata": {},
   "source": [
    "## Реализации формулы\n",
    "\n",
    "$$result\n",
    "= \\begin{pmatrix}\n",
    "(A_0  B_0)^2  \\\\\n",
    "(A_1  B_1)^2  \\\\\n",
    "(A_2  B_2)^2  \\\\\n",
    "(A_3  B_3)^2  \\\\\n",
    "\\end{pmatrix}$$"
   ]
  },
  {
   "cell_type": "code",
   "execution_count": 41,
   "metadata": {
    "collapsed": false
   },
   "outputs": [
    {
     "name": "stdout",
     "output_type": "stream",
     "text": [
      "[   0.  100.  400.  900.]\n"
     ]
    }
   ],
   "source": [
    "# с помощью цикла\n",
    "result = np.zeros_like(B)\n",
    "\n",
    "for i in range(len(B)):\n",
    "    result[i] = (A[i]*B[i])**2\n",
    "\n",
    "print(result)"
   ]
  },
  {
   "cell_type": "markdown",
   "metadata": {},
   "source": [
    "** Внимание. Помните, что по умолчанию при умножении матриц в Python происходит почленное умножение, а не матричное произведение.**"
   ]
  },
  {
   "cell_type": "code",
   "execution_count": 42,
   "metadata": {
    "collapsed": false
   },
   "outputs": [
    {
     "name": "stdout",
     "output_type": "stream",
     "text": [
      "[   0.  100.  400.  900.]\n"
     ]
    }
   ],
   "source": [
    "# с помощью матричных операций\n",
    "result = (A*B)**2\n",
    "print(result)"
   ]
  },
  {
   "cell_type": "markdown",
   "metadata": {},
   "source": [
    "## Реализации формулы\n",
    "\n",
    "$$result = (A_0  B_0)^2 + (A_1  B_1)^2 + (A_2  B_2)^2 + (A_3  B_3)^2$$"
   ]
  },
  {
   "cell_type": "code",
   "execution_count": 43,
   "metadata": {
    "collapsed": false
   },
   "outputs": [
    {
     "name": "stdout",
     "output_type": "stream",
     "text": [
      "1400.0\n"
     ]
    }
   ],
   "source": [
    "# с помощью цикла\n",
    "result = 0\n",
    "\n",
    "for i in range(len(B)):\n",
    "    result = result + (A[i]*B[i])**2\n",
    "\n",
    "print(result)"
   ]
  },
  {
   "cell_type": "code",
   "execution_count": 44,
   "metadata": {
    "collapsed": false
   },
   "outputs": [
    {
     "name": "stdout",
     "output_type": "stream",
     "text": [
      "1400.0\n"
     ]
    }
   ],
   "source": [
    "# с помощью матричных операций\n",
    "result = sum((A*B)**2)\n",
    "print(result)"
   ]
  },
  {
   "cell_type": "markdown",
   "metadata": {},
   "source": [
    "## Матричное произведение\n",
    "\n",
    "$$\n",
    "C \\cdot B =\n",
    "\\begin{pmatrix}\n",
    "C_{0, 0} & C_{0, 1} & C_{0, 2} & C_{0, 3} \\\\\n",
    "C_{1, 0} & C_{1, 1} & C_{1, 2} & C_{1, 3} \\\\\n",
    "\\end{pmatrix} \\cdot \n",
    "\\begin{pmatrix}\n",
    "B_0  \\\\\n",
    "B_1  \\\\\n",
    "B_2  \\\\\n",
    "B_3  \\\\\n",
    "\\end{pmatrix}= \n",
    "\\begin{pmatrix}\n",
    "C_{0, 0} \\cdot B_0 + C_{0, 1} \\cdot B_1 + C_{0, 2} \\cdot B_2 + C_{0, 3} \\cdot B_3 \\\\\n",
    "C_{1, 0} \\cdot B_0 + C_{1, 1} \\cdot B_1 + C_{1, 2} \\cdot B_2 + C_{1, 3} \\cdot B_3 \\\\\n",
    "\\end{pmatrix} =\n",
    "\\begin{pmatrix}\n",
    "0 + 1 + 4 + 9\\\\\n",
    "0 + 5 + 12 + 21 \\\\\n",
    "\\end{pmatrix}=\n",
    "\\begin{pmatrix}\n",
    "14\\\\\n",
    "38 \\\\\n",
    "\\end{pmatrix}\n",
    "$$\n"
   ]
  },
  {
   "cell_type": "code",
   "execution_count": 44,
   "metadata": {
    "collapsed": false
   },
   "outputs": [
    {
     "name": "stdout",
     "output_type": "stream",
     "text": [
      "[ 14.  38.]\n"
     ]
    }
   ],
   "source": [
    "result = np.dot(C, B)\n",
    "print(result)"
   ]
  },
  {
   "cell_type": "markdown",
   "metadata": {},
   "source": [
    "## Реализации формулы\n",
    "\n",
    "$$result = \n",
    "\\begin{pmatrix}\n",
    "A_0 B_0 D_{0,2} \\\\\n",
    "A_1 B_1 D_{1, 2} \\\\ \n",
    "A_2 B_2 D_{2,2} \\\\ \n",
    "A_3 B_3 D_{3,2} \\\\\n",
    "\\end{pmatrix}\n",
    "$$\n",
    "\n",
    "То есть, это почленное умножение вектора $A$, вектора $B$ и второй колонки матрицы $D$"
   ]
  },
  {
   "cell_type": "code",
   "execution_count": 45,
   "metadata": {
    "collapsed": false
   },
   "outputs": [
    {
     "name": "stdout",
     "output_type": "stream",
     "text": [
      "[  0.  30.  60.  90.]\n"
     ]
    }
   ],
   "source": [
    "# с помощью цикла\n",
    "result = np.zeros_like(A)\n",
    "\n",
    "for i in range(len(A)):\n",
    "    result[i] = A[i]*B[i]*D[i, 2]\n",
    "print(result)"
   ]
  },
  {
   "cell_type": "code",
   "execution_count": 46,
   "metadata": {
    "collapsed": false
   },
   "outputs": [
    {
     "name": "stdout",
     "output_type": "stream",
     "text": [
      "[  0.  30.  60.  90.]\n"
     ]
    }
   ],
   "source": [
    "# с помощью матричных операций\n",
    "result = (A*B)*D[:, 2]\n",
    "print(result)"
   ]
  },
  {
   "cell_type": "markdown",
   "metadata": {},
   "source": [
    "## Самый сложный пример\n",
    "\n",
    "$$result = \n",
    "\\begin{pmatrix}\n",
    "A_0 B_0 D_{0,0} + A_1 B_1 D_{1, 0} + A_2 B_2 D_{2,0} + A_3 B_3 D_{3,0} \\\\\n",
    "A_0 B_0 D_{0,1} + A_1 B_1 D_{1, 1} + A_2 B_2 D_{2,1} + A_3 B_3 D_{3,1} \\\\\n",
    "A_0 B_0 D_{0,2} + A_1 B_1 D_{1, 2} + A_2 B_2 D_{2,2} + A_3 B_3 D_{3,2} \\\\\n",
    "\\end{pmatrix}\n",
    "$$\n",
    "\n",
    "Или это можно переписать так:\n",
    "\n",
    "$$result = \n",
    "\\begin{pmatrix}\n",
    "\\sum_{i=0}^3{A_i B_i D_{i,0}} \\\\\n",
    "\\sum_{i=0}^3{A_i B_i D_{i,1}} \\\\\n",
    "\\sum_{i=0}^3{A_i B_i D_{i,2}} \\\\\n",
    "\\end{pmatrix}\n",
    "$$"
   ]
  },
  {
   "cell_type": "code",
   "execution_count": 47,
   "metadata": {
    "collapsed": false
   },
   "outputs": [
    {
     "name": "stdout",
     "output_type": "stream",
     "text": [
      "[ 60 120 180]\n"
     ]
    }
   ],
   "source": [
    "# с помощью цикла\n",
    "result = np.array([0, 0, 0])\n",
    "for i in range(len(result)):\n",
    "    for j in range(len(A)):\n",
    "        result[i] = result[i] + A[j]*B[j]*D[j, i]\n",
    "print(result)"
   ]
  },
  {
   "cell_type": "markdown",
   "metadata": {},
   "source": [
    "# Задания"
   ]
  },
  {
   "cell_type": "markdown",
   "metadata": {},
   "source": [
    "Мы будем использовать следующие матрицы.\n",
    "\n",
    "\\begin{equation*}\n",
    "\\mathbf{A} = \\begin{pmatrix}\n",
    "10  \\\\\n",
    "10  \\\\\n",
    "10  \\\\\n",
    "10  \\\\\n",
    "\\end{pmatrix}\\mathbf{  }\n",
    "\\mathbf{B} = \\begin{pmatrix}\n",
    "0  \\\\\n",
    "1  \\\\\n",
    "2  \\\\\n",
    "3  \\\\\n",
    "\\end{pmatrix}\\mathbf{  }\n",
    "\\mathbf{C} = \\begin{pmatrix}\n",
    "0 & 1 & 2 & 3 \\\\\n",
    "4 & 5 & 6 & 7 \\\\\n",
    "\\end{pmatrix}\n",
    "\\mathbf{D} = \\begin{pmatrix}\n",
    "1 & 2 & 3 \\\\\n",
    "1 & 2 & 3 \\\\\n",
    "1 & 2 & 3 \\\\\n",
    "1 & 2 & 3 \\\\\n",
    "\\end{pmatrix} \n",
    "\\end{equation*}\n",
    "\n",
    "И некое число a."
   ]
  },
  {
   "cell_type": "code",
   "execution_count": 48,
   "metadata": {
    "collapsed": false
   },
   "outputs": [
    {
     "name": "stdout",
     "output_type": "stream",
     "text": [
      "3\n"
     ]
    }
   ],
   "source": [
    "A = np.array([10., 10., 10, 10])\n",
    "B = np.array([0, 1, 2, 3.])\n",
    "C = np.array([[0, 1, 2, 3], [4, 5, 6, 7]])\n",
    "D = np.array([[1, 2, 3], [1, 2, 3], [1, 2, 3], [1, 2, 3]])\n",
    "print(D.shape[1])"
   ]
  },
  {
   "cell_type": "markdown",
   "metadata": {},
   "source": [
    "## 1. Реализовать формулу\n",
    "  \n",
    "   \\begin{equation*}\n",
    "    res = a B = \n",
    "    \\begin{pmatrix}\n",
    "    a B_0 \\\\\n",
    "    a B_1 \\\\\n",
    "    a B_2 \\\\\n",
    "    a B_3 \\\\\n",
    "    \\end{pmatrix}\n",
    "    \\end{equation*}"
   ]
  },
  {
   "cell_type": "code",
   "execution_count": 12,
   "metadata": {
    "collapsed": false
   },
   "outputs": [
    {
     "name": "stdout",
     "output_type": "stream",
     "text": [
      "[ 0.  3.  6.  9.]\n",
      "Молодец!\n"
     ]
    }
   ],
   "source": [
    "import numpy as np\n",
    "from tutorial import *\n",
    "res = np.zeros_like(B)\n",
    "a = 3\n",
    "#**************************************\n",
    "for i in range ()\n",
    "#**************************************\n",
    "task_1(B, a, res)"
   ]
  },
  {
   "cell_type": "markdown",
   "metadata": {},
   "source": [
    "## 2. Реализовать формулу\n",
    "  \n",
    "   \\begin{equation*}\n",
    "    res = A - a B = \n",
    "    \\begin{pmatrix}\n",
    "    A_0 - a B_0 \\\\\n",
    "    A_1 - a B_1 \\\\\n",
    "    A_2 - a B_2 \\\\\n",
    "    A_3 - a B_3 \\\\\n",
    "    \\end{pmatrix}\n",
    "    \\end{equation*}"
   ]
  },
  {
   "cell_type": "code",
   "execution_count": 45,
   "metadata": {
    "collapsed": false
   },
   "outputs": [
    {
     "name": "stdout",
     "output_type": "stream",
     "text": [
      "[ 10.   7.   4.   1.]\n",
      "Молодец!\n",
      "(4,)\n"
     ]
    }
   ],
   "source": [
    "res = np.zeros_like(B)\n",
    "a = 3\n",
    "#**************************************\n",
    "for i in range(len(A)):\n",
    "    res[i] = A[i] - a * B[i]\n",
    "print(res)\n",
    "\n",
    "\n",
    "#**************************************\n",
    "task_2(A, B, a, res)\n",
    "\n",
    "print(A.shape)"
   ]
  },
  {
   "cell_type": "markdown",
   "metadata": {},
   "source": [
    "## 3. Реализовать формулу\n",
    "  \n",
    "   \\begin{equation*}\n",
    "    res = (A - a B)^2 = \n",
    "    \\begin{pmatrix}\n",
    "    (A_0 - a B_0)^2 \\\\\n",
    "    (A_1 - a B_1)^2 \\\\\n",
    "    (A_2 - a B_2)^2 \\\\\n",
    "    (A_3 - a B_3)^2 \\\\\n",
    "    \\end{pmatrix}\n",
    "    \\end{equation*}"
   ]
  },
  {
   "cell_type": "code",
   "execution_count": 10,
   "metadata": {
    "collapsed": false
   },
   "outputs": [
    {
     "name": "stdout",
     "output_type": "stream",
     "text": [
      "[ 100.   49.   16.    1.]\n",
      "Молодец!\n"
     ]
    }
   ],
   "source": [
    "res = np.zeros_like(B)\n",
    "a = 3\n",
    "#**************************************\n",
    "for i in range(len(A)):\n",
    "    res[i] = (A[i] - a * B[i])**2\n",
    "print(res)\n",
    "\n",
    "\n",
    "#**************************************\n",
    "task_3(A, B, a, res)"
   ]
  },
  {
   "cell_type": "markdown",
   "metadata": {},
   "source": [
    "## 4. Реализовать формулу\n",
    "  \n",
    "$$res = a B = (A_0 - a B_0)^2 + (A_1 - a B_1)^2 + (A_2 - a B_2)^2 + (A_3 - a B_3)^2$$"
   ]
  },
  {
   "cell_type": "code",
   "execution_count": 14,
   "metadata": {
    "collapsed": false
   },
   "outputs": [
    {
     "name": "stdout",
     "output_type": "stream",
     "text": [
      "166.0\n",
      "Молодец!\n"
     ]
    }
   ],
   "source": [
    "res = 0\n",
    "a = 3\n",
    "#**************************************\n",
    "res = sum((A - a * B)**2)\n",
    "print(res)\n",
    "\n",
    "#**************************************\n",
    "task_4(A, B, a, res) "
   ]
  }
 ],
 "metadata": {
  "anaconda-cloud": {},
  "kernelspec": {
   "display_name": "Python [default]",
   "language": "python",
   "name": "python3"
  },
  "language_info": {
   "codemirror_mode": {
    "name": "ipython",
    "version": 3
   },
   "file_extension": ".py",
   "mimetype": "text/x-python",
   "name": "python",
   "nbconvert_exporter": "python",
   "pygments_lexer": "ipython3",
   "version": "3.5.2"
  }
 },
 "nbformat": 4,
 "nbformat_minor": 2
}
